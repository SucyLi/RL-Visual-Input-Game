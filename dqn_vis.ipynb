{
 "cells": [
  {
   "cell_type": "markdown",
   "metadata": {},
   "source": [
    "### Set Parameters\n"
   ]
  },
  {
   "cell_type": "code",
   "execution_count": 1,
   "metadata": {},
   "outputs": [],
   "source": [
    "EPISODES = 100\n",
    "env_name = \"mlagents/envs/3DBall_128\"  # Name of the Unity environment binary to launch\n",
    "train_mode = True  # Whether to run the environment in training or inference mode"
   ]
  },
  {
   "cell_type": "markdown",
   "metadata": {},
   "source": [
    "### Import Dependencies\n",
    "#### DQN"
   ]
  },
  {
   "cell_type": "code",
   "execution_count": 2,
   "metadata": {},
   "outputs": [
    {
     "name": "stderr",
     "output_type": "stream",
     "text": [
      "Using TensorFlow backend.\n"
     ]
    }
   ],
   "source": [
    "# -*- coding: utf-8 -*-\n",
    "# DQN part\n",
    "import random\n",
    "import gym\n",
    "import numpy as np\n",
    "from collections import deque\n",
    "from keras.models import Sequential\n",
    "from keras.layers import Dense\n",
    "from keras.optimizers import Adam\n",
    "\n",
    "from keras.applications.vgg16 import VGG16\n",
    "from keras.layers import Input, Flatten, Dense, Conv2D, MaxPooling2D, Dropout\n",
    "from keras.models import Model"
   ]
  },
  {
   "cell_type": "markdown",
   "metadata": {},
   "source": [
    "#### Unity"
   ]
  },
  {
   "cell_type": "code",
   "execution_count": 3,
   "metadata": {},
   "outputs": [
    {
     "name": "stdout",
     "output_type": "stream",
     "text": [
      "Python version:\n",
      "3.6.7 |Anaconda, Inc.| (default, Oct 23 2018, 14:01:38) \n",
      "[GCC 4.2.1 Compatible Clang 4.0.1 (tags/RELEASE_401/final)]\n"
     ]
    }
   ],
   "source": [
    "import matplotlib.pyplot as plt\n",
    "import numpy as np\n",
    "import sys\n",
    "import time\n",
    "import pylab as pl\n",
    "from IPython import display\n",
    "from mlagents.envs import UnityEnvironment\n",
    "\n",
    "%matplotlib inline\n",
    "\n",
    "print(\"Python version:\")\n",
    "print(sys.version)\n",
    "\n",
    "# check Python version\n",
    "if (sys.version_info[0] < 3):\n",
    "    raise Exception(\"ERROR: ML-Agents Toolkit (v0.3 onwards) requires Python 3\")"
   ]
  },
  {
   "cell_type": "markdown",
   "metadata": {},
   "source": [
    "### Define DQN Agent"
   ]
  },
  {
   "cell_type": "code",
   "execution_count": 4,
   "metadata": {},
   "outputs": [],
   "source": [
    "class DQNAgent:\n",
    "    def __init__(self, state_size, action_size):\n",
    "        self.state_size = state_size\n",
    "        self.action_size = action_size\n",
    "        self.memory = deque(maxlen=2000)\n",
    "        self.gamma = 0.95    # discount rate\n",
    "        self.epsilon = 1.0  # exploration rate\n",
    "        self.epsilon_min = 0.01\n",
    "        self.epsilon_decay = 0.995\n",
    "        self.learning_rate = 0.001\n",
    "        self.model = self._build_model()\n",
    "\n",
    "    def _build_model(self):\n",
    "        # Neural Net for Deep-Q learning Model\n",
    "        model_vgg16_conv = VGG16(weights='imagenet', include_top=False, input_shape = self.state_size)\n",
    "        model_vgg16_conv.trainable = False\n",
    "        \n",
    "        #Create your own input format (here 3x200x200)\n",
    "        model = Sequential()\n",
    "        model.add(model_vgg16_conv)\n",
    "        model.add(Conv2D(64, (3, 3), activation='relu'))\n",
    "        model.add(MaxPooling2D(pool_size=(2, 2)))\n",
    "        model.add(Dropout(0.25))\n",
    "        model.add(Flatten(name='flatten'))\n",
    "        model.add(Dense(32, activation='relu', name='fc1'))\n",
    "        model.add(Dense(32, activation='relu', name='fc2'))\n",
    "        model.add(Dense(self.action_size, activation='linear', name='predictions'))\n",
    "        \n",
    "        #Create your own model \n",
    "        #model = Model(input=input, output=x)\n",
    "        \n",
    "        model.compile(loss='mse',\n",
    "                      optimizer=Adam(lr=self.learning_rate))\n",
    "        \n",
    "        return model\n",
    "\n",
    "    def remember(self, state, action, reward, next_state, done):\n",
    "        self.memory.append((state, action, reward, next_state, done))\n",
    "\n",
    "    def act(self, state):\n",
    "        if np.random.rand() <= self.epsilon:\n",
    "            return random.randrange(self.action_size)\n",
    "        act_values = self.model.predict(np.expand_dims(state,axis = 0))\n",
    "        return np.argmax(act_values[0])  # returns action\n",
    "\n",
    "    def replay(self, batch_size):\n",
    "        minibatch = random.sample(self.memory, batch_size)\n",
    "        for state, action, reward, next_state, done in minibatch:\n",
    "            target = reward\n",
    "            if not done:\n",
    "                target = (reward + self.gamma *\n",
    "                          np.amax(self.model.predict(np.expand_dims(next_state,axis = 0))[0]))\n",
    "            target_f = self.model.predict(np.expand_dims(state,axis = 0))\n",
    "            target_f[0][action] = target\n",
    "            self.model.fit(np.expand_dims(state,axis = 0), target_f, epochs=1, verbose=0)\n",
    "        if self.epsilon > self.epsilon_min:\n",
    "            self.epsilon *= self.epsilon_decay\n",
    "\n",
    "    def load(self, name):\n",
    "        self.model.load_weights(name)\n",
    "\n",
    "    def save(self, name):\n",
    "        self.model.save_weights(name)\n"
   ]
  },
  {
   "cell_type": "markdown",
   "metadata": {},
   "source": [
    "### Start Environment"
   ]
  },
  {
   "cell_type": "code",
   "execution_count": 5,
   "metadata": {},
   "outputs": [
    {
     "name": "stderr",
     "output_type": "stream",
     "text": [
      "INFO:mlagents.envs:\n",
      "'Ball3DAcademy' started successfully!\n",
      "Unity Academy name: Ball3DAcademy\n",
      "        Number of Brains: 1\n",
      "        Number of External Brains : 1\n",
      "        Reset Parameters :\n",
      "\t\t\n",
      "Unity brain name: Ball3DBrain\n",
      "        Number of Visual Observations (per agent): 1\n",
      "        Vector Observation space size (per agent): 8\n",
      "        Number of stacked Vector Observation: 1\n",
      "        Vector Action space type: continuous\n",
      "        Vector Action space size (per agent): [2]\n",
      "        Vector Action descriptions: , \n"
     ]
    }
   ],
   "source": [
    "env = UnityEnvironment(file_name=env_name)\n",
    "\n",
    "# Set the default brain to work with\n",
    "default_brain = env.brain_names[0]\n",
    "brain = env.brains[default_brain]"
   ]
  },
  {
   "cell_type": "markdown",
   "metadata": {},
   "source": [
    "### Run DQN"
   ]
  },
  {
   "cell_type": "code",
   "execution_count": 6,
   "metadata": {},
   "outputs": [
    {
     "name": "stdout",
     "output_type": "stream",
     "text": [
      "episode: 0/100, score: 37, e: 0.975249\n",
      "episode: 1/100, score: 20, e: 0.88222\n",
      "episode: 2/100, score: 19, e: 0.802076\n",
      "episode: 3/100, score: 20, e: 0.725566\n",
      "episode: 4/100, score: 51, e: 0.561894\n",
      "episode: 5/100, score: 22, e: 0.503225\n",
      "episode: 6/100, score: 23, e: 0.448428\n",
      "episode: 7/100, score: 17, e: 0.411799\n",
      "episode: 8/100, score: 14, e: 0.383891\n",
      "episode: 9/100, score: 19, e: 0.349017\n",
      "episode: 10/100, score: 25, e: 0.30791\n",
      "episode: 11/100, score: 24, e: 0.27301\n",
      "episode: 12/100, score: 19, e: 0.248208\n",
      "episode: 13/100, score: 23, e: 0.221181\n",
      "episode: 14/100, score: 22, e: 0.198087\n",
      "episode: 15/100, score: 23, e: 0.176517\n",
      "episode: 16/100, score: 18, e: 0.161288\n",
      "episode: 17/100, score: 20, e: 0.145903\n",
      "episode: 18/100, score: 19, e: 0.132648\n",
      "episode: 19/100, score: 19, e: 0.120598\n",
      "episode: 20/100, score: 23, e: 0.107466\n",
      "episode: 21/100, score: 27, e: 0.0938629\n",
      "episode: 22/100, score: 33, e: 0.0795529\n",
      "episode: 23/100, score: 19, e: 0.072326\n",
      "episode: 24/100, score: 21, e: 0.0650997\n",
      "episode: 25/100, score: 21, e: 0.0585954\n",
      "episode: 26/100, score: 19, e: 0.0532724\n",
      "episode: 27/100, score: 27, e: 0.0465292\n",
      "episode: 28/100, score: 17, e: 0.0427285\n",
      "episode: 29/100, score: 22, e: 0.0382671\n",
      "episode: 30/100, score: 34, e: 0.0322708\n",
      "episode: 31/100, score: 20, e: 0.0291925\n",
      "episode: 32/100, score: 19, e: 0.0265406\n",
      "episode: 33/100, score: 19, e: 0.0241295\n",
      "episode: 34/100, score: 19, e: 0.0219375\n",
      "episode: 35/100, score: 23, e: 0.0195487\n",
      "episode: 36/100, score: 29, e: 0.0169039\n",
      "episode: 37/100, score: 19, e: 0.0153683\n",
      "episode: 38/100, score: 14, e: 0.0143268\n",
      "episode: 39/100, score: 14, e: 0.0133559\n",
      "episode: 40/100, score: 18, e: 0.0122036\n",
      "episode: 41/100, score: 17, e: 0.0112068\n",
      "episode: 42/100, score: 25, e: 0.00998645\n",
      "episode: 43/100, score: 21, e: 0.00998645\n",
      "episode: 44/100, score: 19, e: 0.00998645\n",
      "episode: 45/100, score: 30, e: 0.00998645\n",
      "episode: 46/100, score: 18, e: 0.00998645\n",
      "episode: 47/100, score: 13, e: 0.00998645\n",
      "episode: 48/100, score: 18, e: 0.00998645\n",
      "episode: 49/100, score: 17, e: 0.00998645\n",
      "episode: 50/100, score: 18, e: 0.00998645\n",
      "episode: 51/100, score: 20, e: 0.00998645\n",
      "episode: 52/100, score: 18, e: 0.00998645\n",
      "episode: 53/100, score: 17, e: 0.00998645\n",
      "episode: 54/100, score: 39, e: 0.00998645\n",
      "episode: 55/100, score: 22, e: 0.00998645\n",
      "episode: 56/100, score: 17, e: 0.00998645\n",
      "episode: 57/100, score: 17, e: 0.00998645\n",
      "episode: 58/100, score: 23, e: 0.00998645\n",
      "episode: 59/100, score: 16, e: 0.00998645\n",
      "episode: 60/100, score: 17, e: 0.00998645\n",
      "episode: 61/100, score: 19, e: 0.00998645\n",
      "episode: 62/100, score: 17, e: 0.00998645\n",
      "episode: 63/100, score: 21, e: 0.00998645\n",
      "episode: 64/100, score: 22, e: 0.00998645\n",
      "episode: 65/100, score: 20, e: 0.00998645\n",
      "episode: 66/100, score: 19, e: 0.00998645\n",
      "episode: 67/100, score: 15, e: 0.00998645\n",
      "episode: 68/100, score: 18, e: 0.00998645\n",
      "episode: 69/100, score: 19, e: 0.00998645\n",
      "episode: 70/100, score: 27, e: 0.00998645\n",
      "episode: 71/100, score: 22, e: 0.00998645\n",
      "episode: 72/100, score: 15, e: 0.00998645\n",
      "episode: 73/100, score: 16, e: 0.00998645\n",
      "episode: 74/100, score: 17, e: 0.00998645\n",
      "episode: 75/100, score: 16, e: 0.00998645\n",
      "episode: 76/100, score: 17, e: 0.00998645\n",
      "episode: 77/100, score: 13, e: 0.00998645\n",
      "episode: 78/100, score: 19, e: 0.00998645\n",
      "episode: 79/100, score: 22, e: 0.00998645\n",
      "episode: 80/100, score: 20, e: 0.00998645\n",
      "episode: 81/100, score: 17, e: 0.00998645\n",
      "episode: 82/100, score: 18, e: 0.00998645\n",
      "episode: 83/100, score: 14, e: 0.00998645\n",
      "episode: 84/100, score: 18, e: 0.00998645\n",
      "episode: 85/100, score: 18, e: 0.00998645\n",
      "episode: 86/100, score: 21, e: 0.00998645\n",
      "episode: 87/100, score: 16, e: 0.00998645\n",
      "episode: 88/100, score: 18, e: 0.00998645\n",
      "episode: 89/100, score: 15, e: 0.00998645\n",
      "episode: 90/100, score: 19, e: 0.00998645\n",
      "episode: 91/100, score: 15, e: 0.00998645\n",
      "episode: 92/100, score: 17, e: 0.00998645\n",
      "episode: 93/100, score: 19, e: 0.00998645\n",
      "episode: 94/100, score: 18, e: 0.00998645\n",
      "episode: 95/100, score: 14, e: 0.00998645\n",
      "episode: 96/100, score: 15, e: 0.00998645\n",
      "episode: 97/100, score: 16, e: 0.00998645\n",
      "episode: 98/100, score: 22, e: 0.00998645\n",
      "episode: 99/100, score: 16, e: 0.00998645\n"
     ]
    }
   ],
   "source": [
    "env_info = env.reset(train_mode=train_mode)[default_brain]\n",
    "observation = env_info.visual_observations[0][0,:,:,:]\n",
    "state_size = observation.shape\n",
    "\n",
    "action_size = 25\n",
    "agent = DQNAgent(state_size, action_size)\n",
    "# agent.load(\"./save/cartpole-dqn.h5\")\n",
    "done = False\n",
    "batch_size = 32\n",
    "total_perform = np.zeros([EPISODES,1])\n",
    "\n",
    "for e in range(EPISODES):\n",
    "    env_info = env.reset(train_mode=train_mode)[default_brain]\n",
    "    observation = env_info.visual_observations[0][0,:,:,:]\n",
    "    episode_rewards = 0\n",
    "    for time in range(500):\n",
    "        # env.render()   \n",
    "        action = agent.act(observation)\n",
    "        env_info = env.step([(np.mod(action,5)-2)/4,(np.ceil((action+1)/5)-3)/4])[default_brain]\n",
    "        reward = env_info.rewards[0]\n",
    "        #reward = reward if not done else -10\n",
    "        episode_rewards += reward\n",
    "        done = env_info.local_done[0]\n",
    "        next_observation = env_info.visual_observations[0][0,:,:,:]\n",
    "        agent.remember(observation, action, reward, next_observation, done)\n",
    "        observation = next_observation.copy()\n",
    "        if done:\n",
    "            print(\"episode: {}/{}, score: {}, e: {:.6}\"\n",
    "                  .format(e, EPISODES, time, agent.epsilon))\n",
    "            total_perform[e] = time\n",
    "            break\n",
    "        if len(agent.memory) > batch_size:\n",
    "            agent.replay(batch_size)\n",
    "    # if e % 10 == 0:\n",
    "    #     agent.save(\"./save/cartpole-dqn.h5\")"
   ]
  },
  {
   "cell_type": "code",
   "execution_count": 8,
   "metadata": {},
   "outputs": [
    {
     "data": {
      "text/plain": [
       "<function matplotlib.pyplot.close(fig=None)>"
      ]
     },
     "execution_count": 8,
     "metadata": {},
     "output_type": "execute_result"
    },
    {
     "data": {
      "image/png": "[encoded data removed]",
      "text/plain": [
       "<Figure size 432x288 with 1 Axes>"
      ]
     },
     "metadata": {
      "needs_background": "light"
     },
     "output_type": "display_data"
    }
   ],
   "source": [
    "plt.figure\n",
    "plt.plot(total_perform)\n",
    "plt.close"
   ]
  },
  {
   "cell_type": "code",
   "execution_count": 9,
   "metadata": {},
   "outputs": [
    {
     "data": {
      "text/plain": [
       "0.6000000238418579"
      ]
     },
     "execution_count": 9,
     "metadata": {},
     "output_type": "execute_result"
    }
   ],
   "source": [
    "episode_rewards"
   ]
  },
  {
   "cell_type": "code",
   "execution_count": 10,
   "metadata": {},
   "outputs": [
    {
     "data": {
      "text/plain": [
       "(1, 128, 128, 3)"
      ]
     },
     "execution_count": 10,
     "metadata": {},
     "output_type": "execute_result"
    }
   ],
   "source": [
    "x = np.expand_dims(observation, axis=0)\n",
    "x.shape"
   ]
  }
 ],
 "metadata": {
  "kernelspec": {
   "display_name": "Python 3",
   "language": "python",
   "name": "python3"
  },
  "language_info": {
   "codemirror_mode": {
    "name": "ipython",
    "version": 3
   },
   "file_extension": ".py",
   "mimetype": "text/x-python",
   "name": "python",
   "nbconvert_exporter": "python",
   "pygments_lexer": "ipython3",
   "version": "3.6.7"
  }
 },
 "nbformat": 4,
 "nbformat_minor": 2
}
